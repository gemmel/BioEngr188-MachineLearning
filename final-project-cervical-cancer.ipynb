{
 "cells": [
  {
   "cell_type": "code",
   "execution_count": 2,
   "metadata": {
    "collapsed": true
   },
   "outputs": [],
   "source": [
    "% matplotlib inline\n",
    "import numpy as np\n",
    "import scipy as sp\n",
    "import matplotlib.pyplot as plt\n",
    "import pandas as pd\n",
    "from scipy import stats\n",
    "from scipy.stats import norm\n",
    "from sklearn import preprocessing\n",
    "import seaborn as sns\n",
    "\n",
    "plt.rc(\"font\", size=14)\n",
    "plt.style.use(\"ggplot\")\n",
    "\n",
    "import warnings\n",
    "warnings.filterwarnings(\"ignore\", category=DeprecationWarning) #filter deprecation warning\n",
    "warnings.filterwarnings(\"ignore\", category=FutureWarning) #filter future warning"
   ]
  },
  {
   "cell_type": "code",
   "execution_count": 18,
   "metadata": {},
   "outputs": [
    {
     "data": {
      "text/plain": [
       "3622"
      ]
     },
     "execution_count": 18,
     "metadata": {},
     "output_type": "execute_result"
    }
   ],
   "source": [
    "#Upload dataset\n",
    "df = pd.read_csv('cervical_cancer_risk_factors.csv') \n",
    "df = df.replace('?', np.nan)\n",
    "df = df.convert_objects(convert_numeric=True)\n",
    "\n",
    "#Determine number of missing values\n",
    "df.isnull().sum().sum()"
   ]
  },
  {
   "cell_type": "code",
   "execution_count": 19,
   "metadata": {
    "collapsed": true
   },
   "outputs": [
    {
     "data": {
      "text/plain": [
       "0"
      ]
     },
     "execution_count": 19,
     "metadata": {},
     "output_type": "execute_result"
    }
   ],
   "source": [
    "# Fill missing continuous variables with mean values\n",
    "df['Number of sexual partners'] = df['Number of sexual partners'].fillna(df['Number of sexual partners'].mean())\n",
    "df['Number of sexual partners'] = df['Number of sexual partners'].fillna(df['Number of sexual partners'].mean())\n",
    "df['First sexual intercourse'] = df['First sexual intercourse'].fillna(df['First sexual intercourse'].mean())\n",
    "df['Num of pregnancies'] = df['Num of pregnancies'].fillna(df['Num of pregnancies'].mean())\n",
    "df['Smokes'] = df['Smokes'].fillna(1)\n",
    "df['Smokes (years)'] = df['Smokes (years)'].fillna(df['Smokes (years)'].mean())\n",
    "df['Smokes (packs/year)'] = df['Smokes (packs/year)'].fillna(df['Smokes (packs/year)'].mean())\n",
    "df['Hormonal Contraceptives'] = df['Hormonal Contraceptives'].fillna(1)\n",
    "df['Hormonal Contraceptives (years)'] = df['Hormonal Contraceptives (years)'].fillna(df['Hormonal Contraceptives (years)'].mean())\n",
    "df['IUD'] = df['IUD'].fillna(0) \n",
    "df['IUD (years)'] = df['IUD (years)'].fillna(0) \n",
    "df['STDs'] = df['STDs'].fillna(1)\n",
    "df['STDs (number)'] = df['STDs (number)'].fillna(df['STDs (number)'].mean())\n",
    "df['STDs:condylomatosis'] = df['STDs:condylomatosis'].fillna(df['STDs:condylomatosis'].mean())\n",
    "df['STDs:cervical condylomatosis'] = df['STDs:cervical condylomatosis'].fillna(df['STDs:cervical condylomatosis'].mean())\n",
    "df['STDs:vaginal condylomatosis'] = df['STDs:vaginal condylomatosis'].fillna(df['STDs:vaginal condylomatosis'].mean())\n",
    "df['STDs:vulvo-perineal condylomatosis'] = df['STDs:vulvo-perineal condylomatosis'].fillna(df['STDs:vulvo-perineal condylomatosis'].mean())\n",
    "df['STDs:syphilis'] = df['STDs:syphilis'].fillna(df['STDs:syphilis'].mean())\n",
    "df['STDs:pelvic inflammatory disease'] = df['STDs:pelvic inflammatory disease'].fillna(df['STDs:pelvic inflammatory disease'].mean())\n",
    "df['STDs:genital herpes'] = df['STDs:genital herpes'].fillna(df['STDs:genital herpes'].mean())\n",
    "df['STDs:molluscum contagiosum'] = df['STDs:molluscum contagiosum'].fillna(df['STDs:molluscum contagiosum'].mean())\n",
    "df['STDs:AIDS'] = df['STDs:AIDS'].fillna(df['STDs:AIDS'].mean())\n",
    "df['STDs:HIV'] = df['STDs:HIV'].fillna(df['STDs:HIV'].mean())\n",
    "df['STDs:Hepatitis B'] = df['STDs:Hepatitis B'].fillna(df['STDs:Hepatitis B'].mean())\n",
    "df['STDs:HPV'] = df['STDs:HPV'].fillna(df['STDs:HPV'].mean())\n",
    "df['STDs: Time since first diagnosis'] = df['STDs: Time since first diagnosis'].fillna(df['STDs: Time since first diagnosis'].mean())\n",
    "df['STDs: Time since last diagnosis'] = df['STDs: Time since last diagnosis'].fillna(df['STDs: Time since last diagnosis'].mean())\n",
    "\n",
    "# Check that all missing values have been filled\n",
    "df.isnull().sum().sum()"
   ]
  },
  {
   "cell_type": "code",
   "execution_count": 14,
   "metadata": {},
   "outputs": [
    {
     "data": {
      "image/png": "[encoded data removed]",
      "text/plain": [
       "<matplotlib.figure.Figure at 0x108459e10>"
      ]
     },
     "metadata": {},
     "output_type": "display_data"
    },
    {
     "data": {
      "text/plain": [
       "0    803\n",
       "1     55\n",
       "Name: Biopsy, dtype: int64"
      ]
     },
     "execution_count": 14,
     "metadata": {},
     "output_type": "execute_result"
    }
   ],
   "source": [
    "# Plot total negative and positive biopsies\n",
    "sns.countplot(x='Biopsy', data=df)\n",
    "plt.show()\n",
    "df['Biopsy'].value_counts()"
   ]
  },
  {
   "cell_type": "code",
   "execution_count": 7,
   "metadata": {},
   "outputs": [
    {
     "data": {
      "text/html": [
       "<div>\n",
       "<style>\n",
       "    .dataframe thead tr:only-child th {\n",
       "        text-align: right;\n",
       "    }\n",
       "\n",
       "    .dataframe thead th {\n",
       "        text-align: left;\n",
       "    }\n",
       "\n",
       "    .dataframe tbody tr th {\n",
       "        vertical-align: top;\n",
       "    }\n",
       "</style>\n",
       "<table border=\"1\" class=\"dataframe\">\n",
       "  <thead>\n",
       "    <tr style=\"text-align: right;\">\n",
       "      <th></th>\n",
       "      <th>Age</th>\n",
       "      <th>Number of sexual partners</th>\n",
       "      <th>First sexual intercourse</th>\n",
       "      <th>Num of pregnancies</th>\n",
       "      <th>Smokes</th>\n",
       "      <th>Smokes (years)</th>\n",
       "      <th>Smokes (packs/year)</th>\n",
       "      <th>Hormonal Contraceptives</th>\n",
       "      <th>Hormonal Contraceptives (years)</th>\n",
       "      <th>IUD</th>\n",
       "      <th>...</th>\n",
       "      <th>STDs: Number of diagnosis</th>\n",
       "      <th>STDs: Time since first diagnosis</th>\n",
       "      <th>STDs: Time since last diagnosis</th>\n",
       "      <th>Dx:Cancer</th>\n",
       "      <th>Dx:CIN</th>\n",
       "      <th>Dx:HPV</th>\n",
       "      <th>Dx</th>\n",
       "      <th>Hinselmann</th>\n",
       "      <th>Schiller</th>\n",
       "      <th>Citology</th>\n",
       "    </tr>\n",
       "    <tr>\n",
       "      <th>Biopsy</th>\n",
       "      <th></th>\n",
       "      <th></th>\n",
       "      <th></th>\n",
       "      <th></th>\n",
       "      <th></th>\n",
       "      <th></th>\n",
       "      <th></th>\n",
       "      <th></th>\n",
       "      <th></th>\n",
       "      <th></th>\n",
       "      <th></th>\n",
       "      <th></th>\n",
       "      <th></th>\n",
       "      <th></th>\n",
       "      <th></th>\n",
       "      <th></th>\n",
       "      <th></th>\n",
       "      <th></th>\n",
       "      <th></th>\n",
       "      <th></th>\n",
       "      <th></th>\n",
       "    </tr>\n",
       "  </thead>\n",
       "  <tbody>\n",
       "    <tr>\n",
       "      <th>0</th>\n",
       "      <td>26.696139</td>\n",
       "      <td>2.528258</td>\n",
       "      <td>16.989996</td>\n",
       "      <td>2.259654</td>\n",
       "      <td>0.155666</td>\n",
       "      <td>1.154464</td>\n",
       "      <td>0.438893</td>\n",
       "      <td>0.688667</td>\n",
       "      <td>2.183708</td>\n",
       "      <td>0.092154</td>\n",
       "      <td>...</td>\n",
       "      <td>0.079701</td>\n",
       "      <td>6.153982</td>\n",
       "      <td>5.825601</td>\n",
       "      <td>0.014944</td>\n",
       "      <td>0.007472</td>\n",
       "      <td>0.014944</td>\n",
       "      <td>0.021171</td>\n",
       "      <td>0.012453</td>\n",
       "      <td>0.032379</td>\n",
       "      <td>0.032379</td>\n",
       "    </tr>\n",
       "    <tr>\n",
       "      <th>1</th>\n",
       "      <td>28.636364</td>\n",
       "      <td>2.518684</td>\n",
       "      <td>17.072727</td>\n",
       "      <td>2.507799</td>\n",
       "      <td>0.200000</td>\n",
       "      <td>2.172485</td>\n",
       "      <td>0.661206</td>\n",
       "      <td>0.654545</td>\n",
       "      <td>3.318000</td>\n",
       "      <td>0.163636</td>\n",
       "      <td>...</td>\n",
       "      <td>0.200000</td>\n",
       "      <td>5.949040</td>\n",
       "      <td>5.689885</td>\n",
       "      <td>0.109091</td>\n",
       "      <td>0.054545</td>\n",
       "      <td>0.109091</td>\n",
       "      <td>0.127273</td>\n",
       "      <td>0.454545</td>\n",
       "      <td>0.872727</td>\n",
       "      <td>0.327273</td>\n",
       "    </tr>\n",
       "  </tbody>\n",
       "</table>\n",
       "<p>2 rows × 35 columns</p>\n",
       "</div>"
      ],
      "text/plain": [
       "              Age  Number of sexual partners  First sexual intercourse  \\\n",
       "Biopsy                                                                   \n",
       "0       26.696139                   2.528258                 16.989996   \n",
       "1       28.636364                   2.518684                 17.072727   \n",
       "\n",
       "        Num of pregnancies    Smokes  Smokes (years)  Smokes (packs/year)  \\\n",
       "Biopsy                                                                      \n",
       "0                 2.259654  0.155666        1.154464             0.438893   \n",
       "1                 2.507799  0.200000        2.172485             0.661206   \n",
       "\n",
       "        Hormonal Contraceptives  Hormonal Contraceptives (years)       IUD  \\\n",
       "Biopsy                                                                       \n",
       "0                      0.688667                         2.183708  0.092154   \n",
       "1                      0.654545                         3.318000  0.163636   \n",
       "\n",
       "          ...     STDs: Number of diagnosis  STDs: Time since first diagnosis  \\\n",
       "Biopsy    ...                                                                   \n",
       "0         ...                      0.079701                          6.153982   \n",
       "1         ...                      0.200000                          5.949040   \n",
       "\n",
       "        STDs: Time since last diagnosis  Dx:Cancer    Dx:CIN    Dx:HPV  \\\n",
       "Biopsy                                                                   \n",
       "0                              5.825601   0.014944  0.007472  0.014944   \n",
       "1                              5.689885   0.109091  0.054545  0.109091   \n",
       "\n",
       "              Dx  Hinselmann  Schiller  Citology  \n",
       "Biopsy                                            \n",
       "0       0.021171    0.012453  0.032379  0.032379  \n",
       "1       0.127273    0.454545  0.872727  0.327273  \n",
       "\n",
       "[2 rows x 35 columns]"
      ]
     },
     "execution_count": 7,
     "metadata": {},
     "output_type": "execute_result"
    }
   ],
   "source": [
    "df.groupby('Biopsy').mean()"
   ]
  },
  {
   "cell_type": "code",
   "execution_count": 21,
   "metadata": {},
   "outputs": [
    {
     "name": "stdout",
     "output_type": "stream",
     "text": [
      "Accuracy of logistic regression classifier on test set: 0.95\n",
      "[[232   7]\n",
      " [  6  13]]\n"
     ]
    }
   ],
   "source": [
    "from sklearn.linear_model import LogisticRegression\n",
    "from sklearn.cross_validation import train_test_split\n",
    "from sklearn import metrics\n",
    "logreg = LogisticRegression() \n",
    "\n",
    "factors = df.drop('Biopsy', 1)\n",
    "biopsy = np.array(df['Biopsy'])\n",
    "\n",
    "X_train, X_test, y_train, y_test = train_test_split(factors, biopsy, test_size=0.3, random_state=3)\n",
    "logreg.fit(X_train, y_train)\n",
    "\n",
    "y_pred = logreg.predict(X_test)\n",
    "print('Accuracy of logistic regression classifier on test set: {:.2f}'.format(logreg.score(X_test, y_test)))\n",
    "logreg.score(X_test, y_test)\n",
    "\n",
    "#confusion matrix\n",
    "from sklearn.metrics import confusion_matrix\n",
    "confusion_matrix = confusion_matrix(y_test, y_pred)\n",
    "print(confusion_matrix)"
   ]
  },
  {
   "cell_type": "code",
   "execution_count": 23,
   "metadata": {},
   "outputs": [
    {
     "name": "stdout",
     "output_type": "stream",
     "text": [
      "0.951899224806\n",
      "0.969114625826\n",
      "0.658848234599\n"
     ]
    }
   ],
   "source": [
    "from sklearn.metrics import confusion_matrix\n",
    "\n",
    "iters = 1000\n",
    "accuracies= list()\n",
    "truePos = list()\n",
    "falsePos = list()\n",
    "falseNeg = list()\n",
    "trueNeg = list()\n",
    "sensitivity = list()\n",
    "specificity = list()\n",
    "\n",
    "for i in range(iters):\n",
    "    X_train, X_test, y_train, y_test = train_test_split(factors, biopsy, test_size=0.3)\n",
    "    logreg.fit(X_train, y_train)\n",
    "    y_pred = logreg.predict(X_test)\n",
    "    accuracies.append(logreg.score(X_test, y_test))\n",
    "    from sklearn.metrics import confusion_matrix          \n",
    "    confusion_matrix = confusion_matrix(y_test, y_pred)\n",
    "    TP = confusion_matrix[0,0]\n",
    "    FP = confusion_matrix[0,1]\n",
    "    FN = confusion_matrix[1,0]\n",
    "    TN = confusion_matrix[1,1]\n",
    "#     truePos.append(confusion_matrix[0,0])\n",
    "#     falsePos.append(confusion_matrix[0,1])\n",
    "#     falseNeg.append(confusion_matrix[1,0])                \n",
    "#     trueNeg.append(confusion_matrix[1,1])\n",
    "    sens = TP/(TP+FN)\n",
    "    spec = TN/(TN+FP)\n",
    "    sensitivity.append(sens)\n",
    "    specificity.append(spec)\n",
    "\n",
    "print(np.mean(accuracies))\n",
    "# print(np.mean(truePos))\n",
    "# print(np.mean(falsePos))\n",
    "# print(np.mean(falseNeg))\n",
    "# print(np.mean(trueNeg))\n",
    "print(np.mean(sensitivity))\n",
    "print(np.mean(specificity))"
   ]
  },
  {
   "cell_type": "code",
   "execution_count": 41,
   "metadata": {},
   "outputs": [
    {
     "name": "stdout",
     "output_type": "stream",
     "text": [
      "Confusion matrix, without normalization\n",
      "[[18  0]\n",
      " [ 1 14]]\n"
     ]
    },
    {
     "data": {
      "image/png": "[encoded data removed]",
      "text/plain": [
       "<matplotlib.figure.Figure at 0x1a12647710>"
      ]
     },
     "metadata": {},
     "output_type": "display_data"
    }
   ],
   "source": [
    "import itertools  \n",
    "\n",
    "def plot_confusion_matrix(cm, classes,normalize=False,title='Confusion matrix',cmap=plt.cm.Blues):\n",
    "    if normalize:\n",
    "        cm = cm.astype('float') / cm.sum(axis=1)[:, np.newaxis]\n",
    "        print(\"Normalized confusion matrix\")\n",
    "    else:\n",
    "        print('Confusion matrix, without normalization')\n",
    "\n",
    "    print(cm)\n",
    "\n",
    "    plt.imshow(cm, interpolation='nearest', cmap=cmap)\n",
    "    plt.title(title)\n",
    "    plt.colorbar()\n",
    "    tick_marks = np.arange(len(classes))\n",
    "    plt.xticks(tick_marks,classes, rotation=45)\n",
    "    plt.yticks(tick_marks,classes)\n",
    "\n",
    "    fmt = '.2f' if normalize else 'd'\n",
    "    thresh = cm.max() / 2.\n",
    "    for i, j in itertools.product(range(cm.shape[0]), range(cm.shape[1])):\n",
    "        plt.text(j, i, format(cm[i, j], fmt),\n",
    "                 horizontalalignment=\"center\",\n",
    "                 color=\"white\" if cm[i, j] > thresh else \"black\")\n",
    "\n",
    "    plt.tight_layout()\n",
    "    plt.ylabel('True label')\n",
    "    plt.xlabel('Predicted label')\n",
    "\n",
    "# Compute confusion matrix\n",
    "from sklearn.metrics import confusion_matrix    \n",
    "cnf_matrix = confusion_matrix(y_test, y_pred)\n",
    "np.set_printoptions(precision=2)\n",
    "\n",
    "class_names =['True','False']\n",
    "\n",
    "# Plot non-normalized confusion matrix\n",
    "plt.figure()\n",
    "plot_confusion_matrix(cnf_matrix, classes=class_names, title='Confusion matrix, without normalization')\n",
    "\n",
    "# # Plot normalized confusion matrix\n",
    "# plt.figure()\n",
    "# plot_confusion_matrix(cnf_matrix, classes=class_names, normalize=True,\n",
    "#                       title='Normalized confusion matrix')\n",
    "\n",
    "plt.show()\n"
   ]
  },
  {
   "cell_type": "code",
   "execution_count": 47,
   "metadata": {},
   "outputs": [
    {
     "ename": "SyntaxError",
     "evalue": "invalid syntax (<ipython-input-47-bee4ce2d33f9>, line 10)",
     "output_type": "error",
     "traceback": [
      "\u001b[0;36m  File \u001b[0;32m\"<ipython-input-47-bee4ce2d33f9>\"\u001b[0;36m, line \u001b[0;32m10\u001b[0m\n\u001b[0;31m    print ({0}s).format(columnwidth) % label,\u001b[0m\n\u001b[0m              ^\u001b[0m\n\u001b[0;31mSyntaxError\u001b[0m\u001b[0;31m:\u001b[0m invalid syntax\n"
     ]
    }
   ],
   "source": [
    "from sklearn.metrics import confusion_matrix\n",
    "\n",
    "def print_cm(cm, labels, hide_zeroes=False, hide_diagonal=False, hide_threshold=None):\n",
    "\n",
    "    columnwidth = max([len(x) for x in labels]+[5]) # 5 is value length\n",
    "    empty_cell = () * columnwidth\n",
    "\n",
    "    print ()     + empty_cell,\n",
    "    for label in labels: \n",
    "        print ({0}s).format(columnwidth) % label,\n",
    "    print\n",
    "    # Print rows\n",
    "    for i, label1 in enumerate(labels):\n",
    "        print (    {0}s).format(columnwidth) % label1,\n",
    "        for j in range(len(labels)): \n",
    "            cell = ({0}.1f).format(columnwidth) % cm[i, j]\n",
    "            if hide_zeroes:\n",
    "                cell = cell if float(cm[i, j]) != 0 else empty_cell\n",
    "            if hide_diagonal:\n",
    "                cell = cell if i != j else empty_cell\n",
    "            if hide_threshold:\n",
    "                cell = cell if cm[i, j] > hide_threshold else empty_cell\n",
    "            print cell,\n",
    "        print\n",
    "\n",
    "# first generate with specified labels\n",
    "labels =['True','False']\n",
    "cm = confusion_matrix(y_pred, y_test, labels)\n",
    "\n",
    "# then print it in a pretty way\n",
    "print_cm(cm, labels)"
   ]
  },
  {
   "cell_type": "code",
   "execution_count": 91,
   "metadata": {},
   "outputs": [
    {
     "data": {
      "image/png": "[encoded data removed]",
      "text/plain": [
       "<matplotlib.figure.Figure at 0x1a174395c0>"
      ]
     },
     "metadata": {},
     "output_type": "display_data"
    }
   ],
   "source": [
    "objects = ('Accuracy', 'Sensitivity', 'Specificity')\n",
    "y_pos = np.arange(len(objects))\n",
    "performance = [np.mean(accuracies)*100,np.mean(sensitivity)*100,np.mean(specificity)*100]\n",
    " \n",
    "plt.bar(y_pos, performance, align='center')\n",
    "# plt.xticks(y_pos, objects)\n",
    "plt.ylabel('Percent')\n",
    "plt.title('Model Performance')\n",
    " \n",
    "plt.show()"
   ]
  },
  {
   "cell_type": "code",
   "execution_count": 35,
   "metadata": {},
   "outputs": [],
   "source": [
    "# Create new dataframe containing all positives but fewer negatives\n",
    "df_pos = df[df.Biopsy != 0] #remove all negative values from positives df\n",
    "df_neg = df[df.Biopsy != 1] #remove all positive values from negatives df\n",
    "df_neg55 = df_neg.sample(n=55) # randomly select 55 rows from negatives df\n",
    "conc_df = pd.concat([df_pos, df_neg55]) "
   ]
  },
  {
   "cell_type": "code",
   "execution_count": 36,
   "metadata": {},
   "outputs": [
    {
     "name": "stdout",
     "output_type": "stream",
     "text": [
      "Accuracy of logistic regression classifier on test set: 0.97\n",
      "[[18  0]\n",
      " [ 1 14]]\n"
     ]
    }
   ],
   "source": [
    "factors = conc_df.drop('Biopsy', 1)\n",
    "biopsy = np.array(conc_df['Biopsy'])\n",
    "\n",
    "X_train, X_test, y_train, y_test = train_test_split(factors, biopsy, test_size=0.3, random_state=3)\n",
    "logreg.fit(X_train, y_train)\n",
    "\n",
    "y_pred = logreg.predict(X_test)\n",
    "print('Accuracy of logistic regression classifier on test set: {:.2f}'.format(logreg.score(X_test, y_test)))\n",
    "logreg.score(X_test, y_test)\n",
    "#confusion matrix\n",
    "from sklearn.metrics import confusion_matrix \n",
    "confusion_matrix = confusion_matrix(y_test, y_pred)\n",
    "print(confusion_matrix)"
   ]
  },
  {
   "cell_type": "code",
   "execution_count": 37,
   "metadata": {},
   "outputs": [
    {
     "name": "stdout",
     "output_type": "stream",
     "text": [
      "Confusion matrix, without normalization\n",
      "[[18  0]\n",
      " [ 1 14]]\n"
     ]
    },
    {
     "data": {
      "image/png": "[encoded data removed]",
      "text/plain": [
       "<matplotlib.figure.Figure at 0x1a11d86828>"
      ]
     },
     "metadata": {},
     "output_type": "display_data"
    }
   ],
   "source": [
    "import itertools  \n",
    "\n",
    "def plot_confusion_matrix(cm, classes,normalize=False,title='Confusion matrix',cmap=plt.cm.Blues):\n",
    "    if normalize:\n",
    "        cm = cm.astype('float') / cm.sum(axis=1)[:, np.newaxis]\n",
    "        print(\"Normalized confusion matrix\")\n",
    "    else:\n",
    "        print('Confusion matrix, without normalization')\n",
    "\n",
    "    print(cm)\n",
    "\n",
    "    plt.imshow(cm, interpolation='nearest', cmap=cmap)\n",
    "    plt.title(title)\n",
    "    plt.colorbar()\n",
    "    tick_marks = np.arange(len(classes))\n",
    "    plt.xticks(tick_marks, classes, rotation=45)\n",
    "    plt.yticks(tick_marks, classes)\n",
    "\n",
    "    fmt = '.2f' if normalize else 'd'\n",
    "    thresh = cm.max() / 2.\n",
    "    for i, j in itertools.product(range(cm.shape[0]), range(cm.shape[1])):\n",
    "        plt.text(j, i, format(cm[i, j], fmt),\n",
    "                 horizontalalignment=\"center\",\n",
    "                 color=\"white\" if cm[i, j] > thresh else \"black\")\n",
    "\n",
    "    plt.tight_layout()\n",
    "    plt.ylabel('True label')\n",
    "    plt.xlabel('Predicted label')\n",
    "\n",
    "# Compute confusion matrix\n",
    "from sklearn.metrics import confusion_matrix    \n",
    "cnf_matrix = confusion_matrix(y_test, y_pred)\n",
    "np.set_printoptions(precision=2)\n",
    "\n",
    "class_names =['True','False']\n",
    "\n",
    "# Plot non-normalized confusion matrix\n",
    "plt.figure()\n",
    "plot_confusion_matrix(cnf_matrix, classes=class_names, title='Confusion matrix, without normalization')\n",
    "\n",
    "# # Plot normalized confusion matrix\n",
    "# plt.figure()\n",
    "# plot_confusion_matrix(cnf_matrix, classes=class_names, normalize=True,\n",
    "#                       title='Normalized confusion matrix')\n",
    "\n",
    "plt.show()"
   ]
  },
  {
   "cell_type": "code",
   "execution_count": 32,
   "metadata": {},
   "outputs": [
    {
     "name": "stdout",
     "output_type": "stream",
     "text": [
      "Accuracy of logistic regression classifier on test set: 0.95\n",
      "[[232   7]\n",
      " [  6  13]]\n",
      "0.952476744186\n",
      "0.970607893394\n",
      "0.650839922998\n"
     ]
    }
   ],
   "source": [
    "factors = df.drop('Biopsy', 1)\n",
    "biopsy = np.array(df['Biopsy'])\n",
    "\n",
    "def test(factors,biopsy):\n",
    "    X_train, X_test, y_train, y_test = train_test_split(factors, biopsy, test_size=0.3, random_state=3)\n",
    "    logreg.fit(X_train, y_train)\n",
    "\n",
    "    y_pred = logreg.predict(X_test)\n",
    "    print('Accuracy of logistic regression classifier on test set: {:.2f}'.format(logreg.score(X_test, y_test)))\n",
    "    logreg.score(X_test, y_test)\n",
    "    #confusion matrix\n",
    "    from sklearn.metrics import confusion_matrix \n",
    "    confusion_matrix = confusion_matrix(y_test, y_pred)\n",
    "    print(confusion_matrix)\n",
    "\n",
    "    iters = 1000\n",
    "    accuracies= list()\n",
    "    sensitivity = list()\n",
    "    specificity = list()\n",
    "\n",
    "    for i in range(iters):\n",
    "        X_train, X_test, y_train, y_test = train_test_split(factors, biopsy, test_size=0.2)\n",
    "        logreg.fit(X_train, y_train)\n",
    "        y_pred = logreg.predict(X_test)\n",
    "        accuracies.append(logreg.score(X_test, y_test))\n",
    "\n",
    "        from sklearn.metrics import confusion_matrix        \n",
    "        confusion_matrix = confusion_matrix(y_test, y_pred)\n",
    "        TP = confusion_matrix[0,0]\n",
    "        FP = confusion_matrix[0,1]\n",
    "        FN = confusion_matrix[1,0]\n",
    "        TN = confusion_matrix[1,1]\n",
    "        sens = TP/(TP+FN)\n",
    "        spec = TN/(TN+FP)\n",
    "        sensitivity.append(sens)\n",
    "        specificity.append(spec)\n",
    "\n",
    "    print(np.mean(accuracies))\n",
    "    print(np.mean(sensitivity))\n",
    "    print(np.mean(specificity))\n",
    "    \n",
    "test(factors,biopsy)"
   ]
  },
  {
   "cell_type": "code",
   "execution_count": null,
   "metadata": {
    "collapsed": true
   },
   "outputs": [],
   "source": []
  }
 ],
 "metadata": {
  "kernelspec": {
   "display_name": "Python 3",
   "language": "python",
   "name": "python3"
  },
  "language_info": {
   "codemirror_mode": {
    "name": "ipython",
    "version": 3
   },
   "file_extension": ".py",
   "mimetype": "text/x-python",
   "name": "python",
   "nbconvert_exporter": "python",
   "pygments_lexer": "ipython3",
   "version": "3.6.3"
  }
 },
 "nbformat": 4,
 "nbformat_minor": 2
}
